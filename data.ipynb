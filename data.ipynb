{
 "cells": [
  {
   "cell_type": "code",
   "execution_count": 13,
   "outputs": [],
   "source": [
    "from data import *"
   ],
   "metadata": {
    "collapsed": false,
    "ExecuteTime": {
     "end_time": "2023-08-14T11:52:45.373383375Z",
     "start_time": "2023-08-14T11:52:38.954156353Z"
    }
   },
   "id": "7692d45195c27bc8"
  },
  {
   "cell_type": "code",
   "execution_count": 14,
   "outputs": [
    {
     "data": {
      "text/plain": "         province_id         province                       eng abbre_thai  \\\nprov_id                                                                      \nACR               37       อำนาจเจริญ             AMNAT CHAROEN         อจ   \nATG               15          อ่างทอง                 ANG THONG         อท   \nAYA               14  พระนครศรีอยุธยา  PHRA NAKHON SI AYUTTHAYA         อย   \nBKK               10    กรุงเทพมหานคร                   BANGKOK        กทม   \nBKN               38           บึงกาฬ                 BUENG KAN         บก   \n...              ...              ...                       ...        ...   \nUDN               41         อุดรธานี                UDON THANI         อด   \nUTI               61        อุทัยธานี               UTHAI THANI         อน   \nUTT               53        อุตรดิตถ์                 UTTARADIT         อต   \nYLA               95             ยะลา                      YALA         ยล   \nYST               35            ยโสธร                  YASOTHON         ยส   \n\n         total_registered_vote  total_vote_stations  \nprov_id                                              \nACR                     301354                  641  \nATG                     224656                  492  \nAYA                     664431                 1060  \nBKK                    4479155                 6360  \nBKN                     327745                  652  \n...                        ...                  ...  \nUDN                    1248824                 2252  \nUTI                     260983                  617  \nUTT                     368323                  732  \nYLA                     382271                  596  \nYST                     432872                  905  \n\n[77 rows x 6 columns]",
      "text/html": "<div>\n<style scoped>\n    .dataframe tbody tr th:only-of-type {\n        vertical-align: middle;\n    }\n\n    .dataframe tbody tr th {\n        vertical-align: top;\n    }\n\n    .dataframe thead th {\n        text-align: right;\n    }\n</style>\n<table border=\"1\" class=\"dataframe\">\n  <thead>\n    <tr style=\"text-align: right;\">\n      <th></th>\n      <th>province_id</th>\n      <th>province</th>\n      <th>eng</th>\n      <th>abbre_thai</th>\n      <th>total_registered_vote</th>\n      <th>total_vote_stations</th>\n    </tr>\n    <tr>\n      <th>prov_id</th>\n      <th></th>\n      <th></th>\n      <th></th>\n      <th></th>\n      <th></th>\n      <th></th>\n    </tr>\n  </thead>\n  <tbody>\n    <tr>\n      <th>ACR</th>\n      <td>37</td>\n      <td>อำนาจเจริญ</td>\n      <td>AMNAT CHAROEN</td>\n      <td>อจ</td>\n      <td>301354</td>\n      <td>641</td>\n    </tr>\n    <tr>\n      <th>ATG</th>\n      <td>15</td>\n      <td>อ่างทอง</td>\n      <td>ANG THONG</td>\n      <td>อท</td>\n      <td>224656</td>\n      <td>492</td>\n    </tr>\n    <tr>\n      <th>AYA</th>\n      <td>14</td>\n      <td>พระนครศรีอยุธยา</td>\n      <td>PHRA NAKHON SI AYUTTHAYA</td>\n      <td>อย</td>\n      <td>664431</td>\n      <td>1060</td>\n    </tr>\n    <tr>\n      <th>BKK</th>\n      <td>10</td>\n      <td>กรุงเทพมหานคร</td>\n      <td>BANGKOK</td>\n      <td>กทม</td>\n      <td>4479155</td>\n      <td>6360</td>\n    </tr>\n    <tr>\n      <th>BKN</th>\n      <td>38</td>\n      <td>บึงกาฬ</td>\n      <td>BUENG KAN</td>\n      <td>บก</td>\n      <td>327745</td>\n      <td>652</td>\n    </tr>\n    <tr>\n      <th>...</th>\n      <td>...</td>\n      <td>...</td>\n      <td>...</td>\n      <td>...</td>\n      <td>...</td>\n      <td>...</td>\n    </tr>\n    <tr>\n      <th>UDN</th>\n      <td>41</td>\n      <td>อุดรธานี</td>\n      <td>UDON THANI</td>\n      <td>อด</td>\n      <td>1248824</td>\n      <td>2252</td>\n    </tr>\n    <tr>\n      <th>UTI</th>\n      <td>61</td>\n      <td>อุทัยธานี</td>\n      <td>UTHAI THANI</td>\n      <td>อน</td>\n      <td>260983</td>\n      <td>617</td>\n    </tr>\n    <tr>\n      <th>UTT</th>\n      <td>53</td>\n      <td>อุตรดิตถ์</td>\n      <td>UTTARADIT</td>\n      <td>อต</td>\n      <td>368323</td>\n      <td>732</td>\n    </tr>\n    <tr>\n      <th>YLA</th>\n      <td>95</td>\n      <td>ยะลา</td>\n      <td>YALA</td>\n      <td>ยล</td>\n      <td>382271</td>\n      <td>596</td>\n    </tr>\n    <tr>\n      <th>YST</th>\n      <td>35</td>\n      <td>ยโสธร</td>\n      <td>YASOTHON</td>\n      <td>ยส</td>\n      <td>432872</td>\n      <td>905</td>\n    </tr>\n  </tbody>\n</table>\n<p>77 rows × 6 columns</p>\n</div>"
     },
     "execution_count": 14,
     "metadata": {},
     "output_type": "execute_result"
    }
   ],
   "source": [
    "provinces"
   ],
   "metadata": {
    "collapsed": false,
    "ExecuteTime": {
     "end_time": "2023-08-14T11:52:45.383123629Z",
     "start_time": "2023-08-14T11:52:45.378339076Z"
    }
   },
   "id": "de296f9addc4e8ce"
  },
  {
   "cell_type": "code",
   "execution_count": 15,
   "outputs": [
    {
     "data": {
      "text/plain": "         cons_no prov_id  registered_vote  total_vote_stations  \\\ncons_id                                                          \nACR_1          1     ACR           145416                  310   \nACR_2          2     ACR           155938                  331   \nATG_1          1     ATG           111917                  239   \nATG_2          2     ATG           112739                  253   \nAYA_1          1     AYA           138666                  226   \n...          ...     ...              ...                  ...   \nYLA_2          2     YLA           129255                  192   \nYLA_3          3     YLA           127447                  217   \nYST_1          1     YST           144909                  300   \nYST_2          2     YST           141903                  302   \nYST_3          3     YST           146060                  303   \n\n                                                      zone  \ncons_id                                                     \nACR_1                    อำเภอเมืองอำนาจเจริญอำเภอหัวตะพาน  \nACR_2    อำเภอเสนางคนิคมอำเภอชานุมานอำเภอปทุมราชวงศาอำเ...  \nATG_1    อำเภอเมืองอ่างทองอำเภอป่าโมกอำเภอวิเศษชัยชาญ (...  \nATG_2    อำเภอแสวงหาอำเภอโพธิ์ทองอำเภอไชโยอำเภอวิเศษชัย...  \nAYA_1                      อำเภอบางบาลอำเภอพระนครศรีอยุธยา  \n...                                                    ...  \nYLA_2    อำเภอเมืองยะลา (เฉพาะตำบลบุดี, ตำบลเปาะเส้ง, ต...  \nYLA_3       อำเภอเบตงอำเภอกรงปินังอำเภอธารโตอำเภอบันนังสตา  \nYST_1    อำเภอเมืองยโสธรอำเภอคำเขื่อนแก้ว (เฉพาะตำบลทุ่...  \nYST_2    อำเภอไทยเจริญ (เฉพาะตำบลน้ำคำ, ตำบลคำไผ่)อำเภอ...  \nYST_3    อำเภอเลิงนกทาอำเภอไทยเจริญ (ยกเว้นตำบลน้ำคำ, ต...  \n\n[400 rows x 5 columns]",
      "text/html": "<div>\n<style scoped>\n    .dataframe tbody tr th:only-of-type {\n        vertical-align: middle;\n    }\n\n    .dataframe tbody tr th {\n        vertical-align: top;\n    }\n\n    .dataframe thead th {\n        text-align: right;\n    }\n</style>\n<table border=\"1\" class=\"dataframe\">\n  <thead>\n    <tr style=\"text-align: right;\">\n      <th></th>\n      <th>cons_no</th>\n      <th>prov_id</th>\n      <th>registered_vote</th>\n      <th>total_vote_stations</th>\n      <th>zone</th>\n    </tr>\n    <tr>\n      <th>cons_id</th>\n      <th></th>\n      <th></th>\n      <th></th>\n      <th></th>\n      <th></th>\n    </tr>\n  </thead>\n  <tbody>\n    <tr>\n      <th>ACR_1</th>\n      <td>1</td>\n      <td>ACR</td>\n      <td>145416</td>\n      <td>310</td>\n      <td>อำเภอเมืองอำนาจเจริญอำเภอหัวตะพาน</td>\n    </tr>\n    <tr>\n      <th>ACR_2</th>\n      <td>2</td>\n      <td>ACR</td>\n      <td>155938</td>\n      <td>331</td>\n      <td>อำเภอเสนางคนิคมอำเภอชานุมานอำเภอปทุมราชวงศาอำเ...</td>\n    </tr>\n    <tr>\n      <th>ATG_1</th>\n      <td>1</td>\n      <td>ATG</td>\n      <td>111917</td>\n      <td>239</td>\n      <td>อำเภอเมืองอ่างทองอำเภอป่าโมกอำเภอวิเศษชัยชาญ (...</td>\n    </tr>\n    <tr>\n      <th>ATG_2</th>\n      <td>2</td>\n      <td>ATG</td>\n      <td>112739</td>\n      <td>253</td>\n      <td>อำเภอแสวงหาอำเภอโพธิ์ทองอำเภอไชโยอำเภอวิเศษชัย...</td>\n    </tr>\n    <tr>\n      <th>AYA_1</th>\n      <td>1</td>\n      <td>AYA</td>\n      <td>138666</td>\n      <td>226</td>\n      <td>อำเภอบางบาลอำเภอพระนครศรีอยุธยา</td>\n    </tr>\n    <tr>\n      <th>...</th>\n      <td>...</td>\n      <td>...</td>\n      <td>...</td>\n      <td>...</td>\n      <td>...</td>\n    </tr>\n    <tr>\n      <th>YLA_2</th>\n      <td>2</td>\n      <td>YLA</td>\n      <td>129255</td>\n      <td>192</td>\n      <td>อำเภอเมืองยะลา (เฉพาะตำบลบุดี, ตำบลเปาะเส้ง, ต...</td>\n    </tr>\n    <tr>\n      <th>YLA_3</th>\n      <td>3</td>\n      <td>YLA</td>\n      <td>127447</td>\n      <td>217</td>\n      <td>อำเภอเบตงอำเภอกรงปินังอำเภอธารโตอำเภอบันนังสตา</td>\n    </tr>\n    <tr>\n      <th>YST_1</th>\n      <td>1</td>\n      <td>YST</td>\n      <td>144909</td>\n      <td>300</td>\n      <td>อำเภอเมืองยโสธรอำเภอคำเขื่อนแก้ว (เฉพาะตำบลทุ่...</td>\n    </tr>\n    <tr>\n      <th>YST_2</th>\n      <td>2</td>\n      <td>YST</td>\n      <td>141903</td>\n      <td>302</td>\n      <td>อำเภอไทยเจริญ (เฉพาะตำบลน้ำคำ, ตำบลคำไผ่)อำเภอ...</td>\n    </tr>\n    <tr>\n      <th>YST_3</th>\n      <td>3</td>\n      <td>YST</td>\n      <td>146060</td>\n      <td>303</td>\n      <td>อำเภอเลิงนกทาอำเภอไทยเจริญ (ยกเว้นตำบลน้ำคำ, ต...</td>\n    </tr>\n  </tbody>\n</table>\n<p>400 rows × 5 columns</p>\n</div>"
     },
     "execution_count": 15,
     "metadata": {},
     "output_type": "execute_result"
    }
   ],
   "source": [
    "constituencies"
   ],
   "metadata": {
    "collapsed": false,
    "ExecuteTime": {
     "end_time": "2023-08-14T11:52:45.396897199Z",
     "start_time": "2023-08-14T11:52:45.382277819Z"
    }
   },
   "id": "2e2b813cab113a26"
  },
  {
   "cell_type": "code",
   "execution_count": 16,
   "outputs": [
    {
     "data": {
      "text/plain": "         party_no           name    abbr    color  \\\nparty_id                                            \n701            26   ประชาธิปัตย์    ปชป.  #06aff3   \n702            63     ประชากรไทย    ปชท.  #0f41ce   \n703            60   ความหวังใหม่    ควม.  #e6b750   \n705            29       เพื่อไทย     พท.  #da3731   \n706            14  ชาติพัฒนากล้า    ชพก.  #233e8a   \n...           ...            ...     ...      ...   \n780            55    ไทยก้าวหน้า    ทกน.  #b9bee3   \n781             9           พลัง      พ.  #8e8fc7   \n783            52  ชาติรุ่งเรือง    ชรร.  #9cb4c9   \n784            23       รวมใจไทย  ร.จ.ท.  #eec49a   \n786            20        เปลี่ยน      ป.  #cc898a   \n\n                                                   logo_url  \nparty_id                                                     \n701       https://cdn.ectreport.com/images/logos/ประชาธิ...  \n702       https://cdn.ectreport.com/images/logos/ประชากร...  \n703       https://cdn.ectreport.com/images/logos/ความหวั...  \n705       https://cdn.ectreport.com/images/logos/เพื่อไท...  \n706       https://cdn.ectreport.com/images/logos/ชาติพัฒ...  \n...                                                     ...  \n780       https://cdn.ectreport.com/images/logos/ไทยก้าว...  \n781         https://cdn.ectreport.com/images/logos/พลัง.png  \n783       https://cdn.ectreport.com/images/logos/ชาติรุ่...  \n784       https://cdn.ectreport.com/images/logos/รวมใจไท...  \n786       https://cdn.ectreport.com/images/logos/เปลี่ยน...  \n\n[70 rows x 5 columns]",
      "text/html": "<div>\n<style scoped>\n    .dataframe tbody tr th:only-of-type {\n        vertical-align: middle;\n    }\n\n    .dataframe tbody tr th {\n        vertical-align: top;\n    }\n\n    .dataframe thead th {\n        text-align: right;\n    }\n</style>\n<table border=\"1\" class=\"dataframe\">\n  <thead>\n    <tr style=\"text-align: right;\">\n      <th></th>\n      <th>party_no</th>\n      <th>name</th>\n      <th>abbr</th>\n      <th>color</th>\n      <th>logo_url</th>\n    </tr>\n    <tr>\n      <th>party_id</th>\n      <th></th>\n      <th></th>\n      <th></th>\n      <th></th>\n      <th></th>\n    </tr>\n  </thead>\n  <tbody>\n    <tr>\n      <th>701</th>\n      <td>26</td>\n      <td>ประชาธิปัตย์</td>\n      <td>ปชป.</td>\n      <td>#06aff3</td>\n      <td>https://cdn.ectreport.com/images/logos/ประชาธิ...</td>\n    </tr>\n    <tr>\n      <th>702</th>\n      <td>63</td>\n      <td>ประชากรไทย</td>\n      <td>ปชท.</td>\n      <td>#0f41ce</td>\n      <td>https://cdn.ectreport.com/images/logos/ประชากร...</td>\n    </tr>\n    <tr>\n      <th>703</th>\n      <td>60</td>\n      <td>ความหวังใหม่</td>\n      <td>ควม.</td>\n      <td>#e6b750</td>\n      <td>https://cdn.ectreport.com/images/logos/ความหวั...</td>\n    </tr>\n    <tr>\n      <th>705</th>\n      <td>29</td>\n      <td>เพื่อไทย</td>\n      <td>พท.</td>\n      <td>#da3731</td>\n      <td>https://cdn.ectreport.com/images/logos/เพื่อไท...</td>\n    </tr>\n    <tr>\n      <th>706</th>\n      <td>14</td>\n      <td>ชาติพัฒนากล้า</td>\n      <td>ชพก.</td>\n      <td>#233e8a</td>\n      <td>https://cdn.ectreport.com/images/logos/ชาติพัฒ...</td>\n    </tr>\n    <tr>\n      <th>...</th>\n      <td>...</td>\n      <td>...</td>\n      <td>...</td>\n      <td>...</td>\n      <td>...</td>\n    </tr>\n    <tr>\n      <th>780</th>\n      <td>55</td>\n      <td>ไทยก้าวหน้า</td>\n      <td>ทกน.</td>\n      <td>#b9bee3</td>\n      <td>https://cdn.ectreport.com/images/logos/ไทยก้าว...</td>\n    </tr>\n    <tr>\n      <th>781</th>\n      <td>9</td>\n      <td>พลัง</td>\n      <td>พ.</td>\n      <td>#8e8fc7</td>\n      <td>https://cdn.ectreport.com/images/logos/พลัง.png</td>\n    </tr>\n    <tr>\n      <th>783</th>\n      <td>52</td>\n      <td>ชาติรุ่งเรือง</td>\n      <td>ชรร.</td>\n      <td>#9cb4c9</td>\n      <td>https://cdn.ectreport.com/images/logos/ชาติรุ่...</td>\n    </tr>\n    <tr>\n      <th>784</th>\n      <td>23</td>\n      <td>รวมใจไทย</td>\n      <td>ร.จ.ท.</td>\n      <td>#eec49a</td>\n      <td>https://cdn.ectreport.com/images/logos/รวมใจไท...</td>\n    </tr>\n    <tr>\n      <th>786</th>\n      <td>20</td>\n      <td>เปลี่ยน</td>\n      <td>ป.</td>\n      <td>#cc898a</td>\n      <td>https://cdn.ectreport.com/images/logos/เปลี่ยน...</td>\n    </tr>\n  </tbody>\n</table>\n<p>70 rows × 5 columns</p>\n</div>"
     },
     "execution_count": 16,
     "metadata": {},
     "output_type": "execute_result"
    }
   ],
   "source": [
    "parties"
   ],
   "metadata": {
    "collapsed": false,
    "ExecuteTime": {
     "end_time": "2023-08-14T11:52:45.452233927Z",
     "start_time": "2023-08-14T11:52:45.397231665Z"
    }
   },
   "id": "698a0c686c8ec1d6"
  },
  {
   "cell_type": "code",
   "execution_count": 17,
   "outputs": [
    {
     "data": {
      "text/plain": "                      mp_app_name  mp_app_no  mp_app_party_id  \\\nmp_app_id                                                       \nACR_1_1     นางสาวปิยะมาศ บัวแก้ว          1              706   \nACR_1_10   นางสุขสมรวย วันทนียกุล         10              709   \nACR_1_11      นายการันต์ ลุนพันธ์         11              712   \nACR_1_12           นายไสว ผลาวงศ์         12              742   \nACR_1_13         นายสงบ โสภิพันธ์         13              761   \n...                           ...        ...              ...   \nYST_3_5         นายธนพัฒน์ ศรีชนะ          5              709   \nYST_3_6          นายพิทยา พาลุสุข          6              763   \nYST_3_7        นายศรายุทธ สุดสวาท          7              712   \nYST_3_8      นางสาวสุนันทา สีชมภู          8              769   \nYST_3_9          นายณัฐพล ศรีอุบล          9              726   \n\n                                                   image_url  \nmp_app_id                                                     \nACR_1_1    https://cdn.ectreport.com/images/mp_candidates...  \nACR_1_10   https://cdn.ectreport.com/images/mp_candidates...  \nACR_1_11   https://cdn.ectreport.com/images/mp_candidates...  \nACR_1_12   https://cdn.ectreport.com/images/mp_candidates...  \nACR_1_13   https://cdn.ectreport.com/images/mp_candidates...  \n...                                                      ...  \nYST_3_5    https://cdn.ectreport.com/images/mp_candidates...  \nYST_3_6    https://cdn.ectreport.com/images/mp_candidates...  \nYST_3_7    https://cdn.ectreport.com/images/mp_candidates...  \nYST_3_8    https://cdn.ectreport.com/images/mp_candidates...  \nYST_3_9    https://cdn.ectreport.com/images/mp_candidates...  \n\n[4781 rows x 4 columns]",
      "text/html": "<div>\n<style scoped>\n    .dataframe tbody tr th:only-of-type {\n        vertical-align: middle;\n    }\n\n    .dataframe tbody tr th {\n        vertical-align: top;\n    }\n\n    .dataframe thead th {\n        text-align: right;\n    }\n</style>\n<table border=\"1\" class=\"dataframe\">\n  <thead>\n    <tr style=\"text-align: right;\">\n      <th></th>\n      <th>mp_app_name</th>\n      <th>mp_app_no</th>\n      <th>mp_app_party_id</th>\n      <th>image_url</th>\n    </tr>\n    <tr>\n      <th>mp_app_id</th>\n      <th></th>\n      <th></th>\n      <th></th>\n      <th></th>\n    </tr>\n  </thead>\n  <tbody>\n    <tr>\n      <th>ACR_1_1</th>\n      <td>นางสาวปิยะมาศ บัวแก้ว</td>\n      <td>1</td>\n      <td>706</td>\n      <td>https://cdn.ectreport.com/images/mp_candidates...</td>\n    </tr>\n    <tr>\n      <th>ACR_1_10</th>\n      <td>นางสุขสมรวย วันทนียกุล</td>\n      <td>10</td>\n      <td>709</td>\n      <td>https://cdn.ectreport.com/images/mp_candidates...</td>\n    </tr>\n    <tr>\n      <th>ACR_1_11</th>\n      <td>นายการันต์ ลุนพันธ์</td>\n      <td>11</td>\n      <td>712</td>\n      <td>https://cdn.ectreport.com/images/mp_candidates...</td>\n    </tr>\n    <tr>\n      <th>ACR_1_12</th>\n      <td>นายไสว ผลาวงศ์</td>\n      <td>12</td>\n      <td>742</td>\n      <td>https://cdn.ectreport.com/images/mp_candidates...</td>\n    </tr>\n    <tr>\n      <th>ACR_1_13</th>\n      <td>นายสงบ โสภิพันธ์</td>\n      <td>13</td>\n      <td>761</td>\n      <td>https://cdn.ectreport.com/images/mp_candidates...</td>\n    </tr>\n    <tr>\n      <th>...</th>\n      <td>...</td>\n      <td>...</td>\n      <td>...</td>\n      <td>...</td>\n    </tr>\n    <tr>\n      <th>YST_3_5</th>\n      <td>นายธนพัฒน์ ศรีชนะ</td>\n      <td>5</td>\n      <td>709</td>\n      <td>https://cdn.ectreport.com/images/mp_candidates...</td>\n    </tr>\n    <tr>\n      <th>YST_3_6</th>\n      <td>นายพิทยา พาลุสุข</td>\n      <td>6</td>\n      <td>763</td>\n      <td>https://cdn.ectreport.com/images/mp_candidates...</td>\n    </tr>\n    <tr>\n      <th>YST_3_7</th>\n      <td>นายศรายุทธ สุดสวาท</td>\n      <td>7</td>\n      <td>712</td>\n      <td>https://cdn.ectreport.com/images/mp_candidates...</td>\n    </tr>\n    <tr>\n      <th>YST_3_8</th>\n      <td>นางสาวสุนันทา สีชมภู</td>\n      <td>8</td>\n      <td>769</td>\n      <td>https://cdn.ectreport.com/images/mp_candidates...</td>\n    </tr>\n    <tr>\n      <th>YST_3_9</th>\n      <td>นายณัฐพล ศรีอุบล</td>\n      <td>9</td>\n      <td>726</td>\n      <td>https://cdn.ectreport.com/images/mp_candidates...</td>\n    </tr>\n  </tbody>\n</table>\n<p>4781 rows × 4 columns</p>\n</div>"
     },
     "execution_count": 17,
     "metadata": {},
     "output_type": "execute_result"
    }
   ],
   "source": [
    "constituency_candidates"
   ],
   "metadata": {
    "collapsed": false,
    "ExecuteTime": {
     "end_time": "2023-08-14T11:52:45.519536100Z",
     "start_time": "2023-08-14T11:52:45.407096914Z"
    }
   },
   "id": "fbd532c3d61c0265"
  },
  {
   "cell_type": "code",
   "execution_count": 18,
   "outputs": [
    {
     "data": {
      "text/plain": "      party_no  list_no                         name  \\\nid                                                     \n0            1        1        นายกฤดิทัช แสงธนโยธิน   \n1            1       10           นายมิตรชัย สมบูรณ์   \n2            1        2          นายสุปรีย์ แสงสว่าง   \n3            1        3          นายธนภัท อุทุมพันธ์   \n4            1        4               นายทิวา ขำศิริ   \n...        ...      ...                          ...   \n1893        67        5          นายนิคม ฤทธิ์ศรีบุญ   \n1894        67        6        นางภิขณิสา ภูมิมเหศวร   \n1895        67        7                นายสมยศ สุขใจ   \n1896        67        8  นางสาวชณพรรธน์ พิทย์พัฒนกูล   \n1897        67        9           นายศรวัสย์ ดวงแก้ว   \n\n                                              image_url  \nid                                                       \n0     https://cdn.ectreport.com/images/candidates/นา...  \n1     https://cdn.ectreport.com/images/candidates/นา...  \n2     https://cdn.ectreport.com/images/candidates/นา...  \n3     https://cdn.ectreport.com/images/candidates/นา...  \n4     https://cdn.ectreport.com/images/candidates/นา...  \n...                                                 ...  \n1893  https://cdn.ectreport.com/images/candidates/นา...  \n1894  https://cdn.ectreport.com/images/candidates/นา...  \n1895  https://cdn.ectreport.com/images/candidates/นา...  \n1896  https://cdn.ectreport.com/images/candidates/นา...  \n1897  https://cdn.ectreport.com/images/candidates/นา...  \n\n[1898 rows x 4 columns]",
      "text/html": "<div>\n<style scoped>\n    .dataframe tbody tr th:only-of-type {\n        vertical-align: middle;\n    }\n\n    .dataframe tbody tr th {\n        vertical-align: top;\n    }\n\n    .dataframe thead th {\n        text-align: right;\n    }\n</style>\n<table border=\"1\" class=\"dataframe\">\n  <thead>\n    <tr style=\"text-align: right;\">\n      <th></th>\n      <th>party_no</th>\n      <th>list_no</th>\n      <th>name</th>\n      <th>image_url</th>\n    </tr>\n    <tr>\n      <th>id</th>\n      <th></th>\n      <th></th>\n      <th></th>\n      <th></th>\n    </tr>\n  </thead>\n  <tbody>\n    <tr>\n      <th>0</th>\n      <td>1</td>\n      <td>1</td>\n      <td>นายกฤดิทัช แสงธนโยธิน</td>\n      <td>https://cdn.ectreport.com/images/candidates/นา...</td>\n    </tr>\n    <tr>\n      <th>1</th>\n      <td>1</td>\n      <td>10</td>\n      <td>นายมิตรชัย สมบูรณ์</td>\n      <td>https://cdn.ectreport.com/images/candidates/นา...</td>\n    </tr>\n    <tr>\n      <th>2</th>\n      <td>1</td>\n      <td>2</td>\n      <td>นายสุปรีย์ แสงสว่าง</td>\n      <td>https://cdn.ectreport.com/images/candidates/นา...</td>\n    </tr>\n    <tr>\n      <th>3</th>\n      <td>1</td>\n      <td>3</td>\n      <td>นายธนภัท อุทุมพันธ์</td>\n      <td>https://cdn.ectreport.com/images/candidates/นา...</td>\n    </tr>\n    <tr>\n      <th>4</th>\n      <td>1</td>\n      <td>4</td>\n      <td>นายทิวา ขำศิริ</td>\n      <td>https://cdn.ectreport.com/images/candidates/นา...</td>\n    </tr>\n    <tr>\n      <th>...</th>\n      <td>...</td>\n      <td>...</td>\n      <td>...</td>\n      <td>...</td>\n    </tr>\n    <tr>\n      <th>1893</th>\n      <td>67</td>\n      <td>5</td>\n      <td>นายนิคม ฤทธิ์ศรีบุญ</td>\n      <td>https://cdn.ectreport.com/images/candidates/นา...</td>\n    </tr>\n    <tr>\n      <th>1894</th>\n      <td>67</td>\n      <td>6</td>\n      <td>นางภิขณิสา ภูมิมเหศวร</td>\n      <td>https://cdn.ectreport.com/images/candidates/นา...</td>\n    </tr>\n    <tr>\n      <th>1895</th>\n      <td>67</td>\n      <td>7</td>\n      <td>นายสมยศ สุขใจ</td>\n      <td>https://cdn.ectreport.com/images/candidates/นา...</td>\n    </tr>\n    <tr>\n      <th>1896</th>\n      <td>67</td>\n      <td>8</td>\n      <td>นางสาวชณพรรธน์ พิทย์พัฒนกูล</td>\n      <td>https://cdn.ectreport.com/images/candidates/นา...</td>\n    </tr>\n    <tr>\n      <th>1897</th>\n      <td>67</td>\n      <td>9</td>\n      <td>นายศรวัสย์ ดวงแก้ว</td>\n      <td>https://cdn.ectreport.com/images/candidates/นา...</td>\n    </tr>\n  </tbody>\n</table>\n<p>1898 rows × 4 columns</p>\n</div>"
     },
     "execution_count": 18,
     "metadata": {},
     "output_type": "execute_result"
    }
   ],
   "source": [
    "party_list_candidates"
   ],
   "metadata": {
    "collapsed": false,
    "ExecuteTime": {
     "end_time": "2023-08-14T11:52:45.519938447Z",
     "start_time": "2023-08-14T11:52:45.464222119Z"
    }
   },
   "id": "729d1bbddaaff024"
  },
  {
   "cell_type": "code",
   "execution_count": 19,
   "outputs": [
    {
     "data": {
      "text/plain": "    party_no                                              name  \\\nid                                                               \n0          2                                 นายสุรทิน พิจารณ์   \n1          4                          นายบัญชา เดชเจริญศิริกุล   \n2          5                         นายเชาวฤทธิ์ ขจรพงศ์กีรติ   \n3          7                               นายอนุทิน ชาญวีรกูล   \n4          9                           นายชัยยพล พสุรัตน์บรรจง   \n..       ...                                               ...   \n57        63                               นางสาวภคมน วงศ์ใหญ่   \n58        63                                  นายคณิศร สมมะลวน   \n59        63                                   นายหรรษธร ณรงค์   \n60        65  ผู้ช่วยศาสตราจารย์ (พิเศษ) อัครนันท์ อริยศรีพงษ์   \n61        67                         นายเกียรติภูมิ สิริพันธุ์   \n\n                                            image_url  \nid                                                     \n0   https://cdn.ectreport.com/images/pm_candidates...  \n1   https://cdn.ectreport.com/images/pm_candidates...  \n2   https://cdn.ectreport.com/images/pm_candidates...  \n3   https://cdn.ectreport.com/images/pm_candidates...  \n4   https://cdn.ectreport.com/images/pm_candidates...  \n..                                                ...  \n57  https://cdn.ectreport.com/images/pm_candidates...  \n58  https://cdn.ectreport.com/images/pm_candidates...  \n59  https://cdn.ectreport.com/images/pm_candidates...  \n60  https://cdn.ectreport.com/images/pm_candidates...  \n61  https://cdn.ectreport.com/images/pm_candidates...  \n\n[62 rows x 3 columns]",
      "text/html": "<div>\n<style scoped>\n    .dataframe tbody tr th:only-of-type {\n        vertical-align: middle;\n    }\n\n    .dataframe tbody tr th {\n        vertical-align: top;\n    }\n\n    .dataframe thead th {\n        text-align: right;\n    }\n</style>\n<table border=\"1\" class=\"dataframe\">\n  <thead>\n    <tr style=\"text-align: right;\">\n      <th></th>\n      <th>party_no</th>\n      <th>name</th>\n      <th>image_url</th>\n    </tr>\n    <tr>\n      <th>id</th>\n      <th></th>\n      <th></th>\n      <th></th>\n    </tr>\n  </thead>\n  <tbody>\n    <tr>\n      <th>0</th>\n      <td>2</td>\n      <td>นายสุรทิน พิจารณ์</td>\n      <td>https://cdn.ectreport.com/images/pm_candidates...</td>\n    </tr>\n    <tr>\n      <th>1</th>\n      <td>4</td>\n      <td>นายบัญชา เดชเจริญศิริกุล</td>\n      <td>https://cdn.ectreport.com/images/pm_candidates...</td>\n    </tr>\n    <tr>\n      <th>2</th>\n      <td>5</td>\n      <td>นายเชาวฤทธิ์ ขจรพงศ์กีรติ</td>\n      <td>https://cdn.ectreport.com/images/pm_candidates...</td>\n    </tr>\n    <tr>\n      <th>3</th>\n      <td>7</td>\n      <td>นายอนุทิน ชาญวีรกูล</td>\n      <td>https://cdn.ectreport.com/images/pm_candidates...</td>\n    </tr>\n    <tr>\n      <th>4</th>\n      <td>9</td>\n      <td>นายชัยยพล พสุรัตน์บรรจง</td>\n      <td>https://cdn.ectreport.com/images/pm_candidates...</td>\n    </tr>\n    <tr>\n      <th>...</th>\n      <td>...</td>\n      <td>...</td>\n      <td>...</td>\n    </tr>\n    <tr>\n      <th>57</th>\n      <td>63</td>\n      <td>นางสาวภคมน วงศ์ใหญ่</td>\n      <td>https://cdn.ectreport.com/images/pm_candidates...</td>\n    </tr>\n    <tr>\n      <th>58</th>\n      <td>63</td>\n      <td>นายคณิศร สมมะลวน</td>\n      <td>https://cdn.ectreport.com/images/pm_candidates...</td>\n    </tr>\n    <tr>\n      <th>59</th>\n      <td>63</td>\n      <td>นายหรรษธร ณรงค์</td>\n      <td>https://cdn.ectreport.com/images/pm_candidates...</td>\n    </tr>\n    <tr>\n      <th>60</th>\n      <td>65</td>\n      <td>ผู้ช่วยศาสตราจารย์ (พิเศษ) อัครนันท์ อริยศรีพงษ์</td>\n      <td>https://cdn.ectreport.com/images/pm_candidates...</td>\n    </tr>\n    <tr>\n      <th>61</th>\n      <td>67</td>\n      <td>นายเกียรติภูมิ สิริพันธุ์</td>\n      <td>https://cdn.ectreport.com/images/pm_candidates...</td>\n    </tr>\n  </tbody>\n</table>\n<p>62 rows × 3 columns</p>\n</div>"
     },
     "execution_count": 19,
     "metadata": {},
     "output_type": "execute_result"
    }
   ],
   "source": [
    "PM_candidates"
   ],
   "metadata": {
    "collapsed": false,
    "ExecuteTime": {
     "end_time": "2023-08-14T11:52:45.520238304Z",
     "start_time": "2023-08-14T11:52:45.464477007Z"
    }
   },
   "id": "2f0c91bc51108136"
  },
  {
   "cell_type": "code",
   "execution_count": 20,
   "outputs": [
    {
     "data": {
      "text/plain": "      cons_id  party_id  party_list_vote\nid                                      \n0       ACR_1       701             4550\n1       ACR_1       702              185\n2       ACR_1       703               67\n3       ACR_1       705            33576\n4       ACR_1       706              132\n...       ...       ...              ...\n26795   YST_3       780              146\n26796   YST_3       781              412\n26797   YST_3       783               17\n26798   YST_3       784              138\n26799   YST_3       786               85\n\n[26800 rows x 3 columns]",
      "text/html": "<div>\n<style scoped>\n    .dataframe tbody tr th:only-of-type {\n        vertical-align: middle;\n    }\n\n    .dataframe tbody tr th {\n        vertical-align: top;\n    }\n\n    .dataframe thead th {\n        text-align: right;\n    }\n</style>\n<table border=\"1\" class=\"dataframe\">\n  <thead>\n    <tr style=\"text-align: right;\">\n      <th></th>\n      <th>cons_id</th>\n      <th>party_id</th>\n      <th>party_list_vote</th>\n    </tr>\n    <tr>\n      <th>id</th>\n      <th></th>\n      <th></th>\n      <th></th>\n    </tr>\n  </thead>\n  <tbody>\n    <tr>\n      <th>0</th>\n      <td>ACR_1</td>\n      <td>701</td>\n      <td>4550</td>\n    </tr>\n    <tr>\n      <th>1</th>\n      <td>ACR_1</td>\n      <td>702</td>\n      <td>185</td>\n    </tr>\n    <tr>\n      <th>2</th>\n      <td>ACR_1</td>\n      <td>703</td>\n      <td>67</td>\n    </tr>\n    <tr>\n      <th>3</th>\n      <td>ACR_1</td>\n      <td>705</td>\n      <td>33576</td>\n    </tr>\n    <tr>\n      <th>4</th>\n      <td>ACR_1</td>\n      <td>706</td>\n      <td>132</td>\n    </tr>\n    <tr>\n      <th>...</th>\n      <td>...</td>\n      <td>...</td>\n      <td>...</td>\n    </tr>\n    <tr>\n      <th>26795</th>\n      <td>YST_3</td>\n      <td>780</td>\n      <td>146</td>\n    </tr>\n    <tr>\n      <th>26796</th>\n      <td>YST_3</td>\n      <td>781</td>\n      <td>412</td>\n    </tr>\n    <tr>\n      <th>26797</th>\n      <td>YST_3</td>\n      <td>783</td>\n      <td>17</td>\n    </tr>\n    <tr>\n      <th>26798</th>\n      <td>YST_3</td>\n      <td>784</td>\n      <td>138</td>\n    </tr>\n    <tr>\n      <th>26799</th>\n      <td>YST_3</td>\n      <td>786</td>\n      <td>85</td>\n    </tr>\n  </tbody>\n</table>\n<p>26800 rows × 3 columns</p>\n</div>"
     },
     "execution_count": 20,
     "metadata": {},
     "output_type": "execute_result"
    }
   ],
   "source": [
    "party_list_result"
   ],
   "metadata": {
    "collapsed": false,
    "ExecuteTime": {
     "end_time": "2023-08-14T11:52:45.520545079Z",
     "start_time": "2023-08-14T11:52:45.464607803Z"
    }
   },
   "id": "ef5161e2dff314a1"
  },
  {
   "cell_type": "code",
   "execution_count": 21,
   "outputs": [
    {
     "data": {
      "text/plain": "     cons_id mp_app_id  mp_app_rank  mp_app_vote  party_id\nid                                                        \n0      ACR_1   ACR_1_1            9          459       706\n1      ACR_1  ACR_1_10            1        38275       709\n2      ACR_1  ACR_1_11           12          127       712\n3      ACR_1  ACR_1_12           13          126       742\n4      ACR_1  ACR_1_13           11          212       761\n...      ...       ...          ...          ...       ...\n4776   YST_3   YST_3_5            1        37946       709\n4777   YST_3   YST_3_6            7          821       763\n4778   YST_3   YST_3_7            9          531       712\n4779   YST_3   YST_3_8           11          296       769\n4780   YST_3   YST_3_9            3        14502       726\n\n[4781 rows x 5 columns]",
      "text/html": "<div>\n<style scoped>\n    .dataframe tbody tr th:only-of-type {\n        vertical-align: middle;\n    }\n\n    .dataframe tbody tr th {\n        vertical-align: top;\n    }\n\n    .dataframe thead th {\n        text-align: right;\n    }\n</style>\n<table border=\"1\" class=\"dataframe\">\n  <thead>\n    <tr style=\"text-align: right;\">\n      <th></th>\n      <th>cons_id</th>\n      <th>mp_app_id</th>\n      <th>mp_app_rank</th>\n      <th>mp_app_vote</th>\n      <th>party_id</th>\n    </tr>\n    <tr>\n      <th>id</th>\n      <th></th>\n      <th></th>\n      <th></th>\n      <th></th>\n      <th></th>\n    </tr>\n  </thead>\n  <tbody>\n    <tr>\n      <th>0</th>\n      <td>ACR_1</td>\n      <td>ACR_1_1</td>\n      <td>9</td>\n      <td>459</td>\n      <td>706</td>\n    </tr>\n    <tr>\n      <th>1</th>\n      <td>ACR_1</td>\n      <td>ACR_1_10</td>\n      <td>1</td>\n      <td>38275</td>\n      <td>709</td>\n    </tr>\n    <tr>\n      <th>2</th>\n      <td>ACR_1</td>\n      <td>ACR_1_11</td>\n      <td>12</td>\n      <td>127</td>\n      <td>712</td>\n    </tr>\n    <tr>\n      <th>3</th>\n      <td>ACR_1</td>\n      <td>ACR_1_12</td>\n      <td>13</td>\n      <td>126</td>\n      <td>742</td>\n    </tr>\n    <tr>\n      <th>4</th>\n      <td>ACR_1</td>\n      <td>ACR_1_13</td>\n      <td>11</td>\n      <td>212</td>\n      <td>761</td>\n    </tr>\n    <tr>\n      <th>...</th>\n      <td>...</td>\n      <td>...</td>\n      <td>...</td>\n      <td>...</td>\n      <td>...</td>\n    </tr>\n    <tr>\n      <th>4776</th>\n      <td>YST_3</td>\n      <td>YST_3_5</td>\n      <td>1</td>\n      <td>37946</td>\n      <td>709</td>\n    </tr>\n    <tr>\n      <th>4777</th>\n      <td>YST_3</td>\n      <td>YST_3_6</td>\n      <td>7</td>\n      <td>821</td>\n      <td>763</td>\n    </tr>\n    <tr>\n      <th>4778</th>\n      <td>YST_3</td>\n      <td>YST_3_7</td>\n      <td>9</td>\n      <td>531</td>\n      <td>712</td>\n    </tr>\n    <tr>\n      <th>4779</th>\n      <td>YST_3</td>\n      <td>YST_3_8</td>\n      <td>11</td>\n      <td>296</td>\n      <td>769</td>\n    </tr>\n    <tr>\n      <th>4780</th>\n      <td>YST_3</td>\n      <td>YST_3_9</td>\n      <td>3</td>\n      <td>14502</td>\n      <td>726</td>\n    </tr>\n  </tbody>\n</table>\n<p>4781 rows × 5 columns</p>\n</div>"
     },
     "execution_count": 21,
     "metadata": {},
     "output_type": "execute_result"
    }
   ],
   "source": [
    "constituency_result"
   ],
   "metadata": {
    "collapsed": false,
    "ExecuteTime": {
     "end_time": "2023-08-14T11:52:45.520845975Z",
     "start_time": "2023-08-14T11:52:45.464715035Z"
    }
   },
   "id": "6b4213c38d5aaaf7"
  },
  {
   "cell_type": "code",
   "execution_count": 22,
   "outputs": [
    {
     "data": {
      "text/plain": "    prov_id cons_id  turn_out  percent_turn_out\nid                                             \n0       ACR   ACR_1    105574          72.60136\n1       ACR   ACR_2    111813          71.70442\n2       ATG   ATG_1     89918          80.74896\n3       ATG   ATG_2     91466          81.14515\n4       AYA   AYA_1    110317          79.92132\n..      ...     ...       ...               ...\n395     YLA   YLA_2    100319          77.61325\n396     YLA   YLA_3     97956          76.86139\n397     YST   YST_1    110491          76.29751\n398     YST   YST_2     98432          69.36618\n399     YST   YST_3    104532          71.88875\n\n[400 rows x 4 columns]",
      "text/html": "<div>\n<style scoped>\n    .dataframe tbody tr th:only-of-type {\n        vertical-align: middle;\n    }\n\n    .dataframe tbody tr th {\n        vertical-align: top;\n    }\n\n    .dataframe thead th {\n        text-align: right;\n    }\n</style>\n<table border=\"1\" class=\"dataframe\">\n  <thead>\n    <tr style=\"text-align: right;\">\n      <th></th>\n      <th>prov_id</th>\n      <th>cons_id</th>\n      <th>turn_out</th>\n      <th>percent_turn_out</th>\n    </tr>\n    <tr>\n      <th>id</th>\n      <th></th>\n      <th></th>\n      <th></th>\n      <th></th>\n    </tr>\n  </thead>\n  <tbody>\n    <tr>\n      <th>0</th>\n      <td>ACR</td>\n      <td>ACR_1</td>\n      <td>105574</td>\n      <td>72.60136</td>\n    </tr>\n    <tr>\n      <th>1</th>\n      <td>ACR</td>\n      <td>ACR_2</td>\n      <td>111813</td>\n      <td>71.70442</td>\n    </tr>\n    <tr>\n      <th>2</th>\n      <td>ATG</td>\n      <td>ATG_1</td>\n      <td>89918</td>\n      <td>80.74896</td>\n    </tr>\n    <tr>\n      <th>3</th>\n      <td>ATG</td>\n      <td>ATG_2</td>\n      <td>91466</td>\n      <td>81.14515</td>\n    </tr>\n    <tr>\n      <th>4</th>\n      <td>AYA</td>\n      <td>AYA_1</td>\n      <td>110317</td>\n      <td>79.92132</td>\n    </tr>\n    <tr>\n      <th>...</th>\n      <td>...</td>\n      <td>...</td>\n      <td>...</td>\n      <td>...</td>\n    </tr>\n    <tr>\n      <th>395</th>\n      <td>YLA</td>\n      <td>YLA_2</td>\n      <td>100319</td>\n      <td>77.61325</td>\n    </tr>\n    <tr>\n      <th>396</th>\n      <td>YLA</td>\n      <td>YLA_3</td>\n      <td>97956</td>\n      <td>76.86139</td>\n    </tr>\n    <tr>\n      <th>397</th>\n      <td>YST</td>\n      <td>YST_1</td>\n      <td>110491</td>\n      <td>76.29751</td>\n    </tr>\n    <tr>\n      <th>398</th>\n      <td>YST</td>\n      <td>YST_2</td>\n      <td>98432</td>\n      <td>69.36618</td>\n    </tr>\n    <tr>\n      <th>399</th>\n      <td>YST</td>\n      <td>YST_3</td>\n      <td>104532</td>\n      <td>71.88875</td>\n    </tr>\n  </tbody>\n</table>\n<p>400 rows × 4 columns</p>\n</div>"
     },
     "execution_count": 22,
     "metadata": {},
     "output_type": "execute_result"
    }
   ],
   "source": [
    "constituencies_status"
   ],
   "metadata": {
    "collapsed": false,
    "ExecuteTime": {
     "end_time": "2023-08-14T11:52:45.567847354Z",
     "start_time": "2023-08-14T11:52:45.464799988Z"
    }
   },
   "id": "c2cc91cffb0e1815"
  },
  {
   "cell_type": "code",
   "execution_count": 23,
   "outputs": [
    {
     "data": {
      "text/plain": "    party_id  constituencies_count  party_list_count\nid                                                  \n0        726                   112                39\n1        705                   112                29\n2        709                    68                 3\n3        743                    39                 1\n4        763                    23                13\n5        701                    22                 3\n6        707                     9                 1\n7        740                     7                 2\n8        762                     5                 1\n9        773                     2                 0\n10       706                     1                 1\n11       719                     0                 1\n12       712                     0                 1\n13       778                     0                 1\n14       776                     0                 1\n15       747                     0                 1\n16       761                     0                 1\n17       714                     0                 1",
      "text/html": "<div>\n<style scoped>\n    .dataframe tbody tr th:only-of-type {\n        vertical-align: middle;\n    }\n\n    .dataframe tbody tr th {\n        vertical-align: top;\n    }\n\n    .dataframe thead th {\n        text-align: right;\n    }\n</style>\n<table border=\"1\" class=\"dataframe\">\n  <thead>\n    <tr style=\"text-align: right;\">\n      <th></th>\n      <th>party_id</th>\n      <th>constituencies_count</th>\n      <th>party_list_count</th>\n    </tr>\n    <tr>\n      <th>id</th>\n      <th></th>\n      <th></th>\n      <th></th>\n    </tr>\n  </thead>\n  <tbody>\n    <tr>\n      <th>0</th>\n      <td>726</td>\n      <td>112</td>\n      <td>39</td>\n    </tr>\n    <tr>\n      <th>1</th>\n      <td>705</td>\n      <td>112</td>\n      <td>29</td>\n    </tr>\n    <tr>\n      <th>2</th>\n      <td>709</td>\n      <td>68</td>\n      <td>3</td>\n    </tr>\n    <tr>\n      <th>3</th>\n      <td>743</td>\n      <td>39</td>\n      <td>1</td>\n    </tr>\n    <tr>\n      <th>4</th>\n      <td>763</td>\n      <td>23</td>\n      <td>13</td>\n    </tr>\n    <tr>\n      <th>5</th>\n      <td>701</td>\n      <td>22</td>\n      <td>3</td>\n    </tr>\n    <tr>\n      <th>6</th>\n      <td>707</td>\n      <td>9</td>\n      <td>1</td>\n    </tr>\n    <tr>\n      <th>7</th>\n      <td>740</td>\n      <td>7</td>\n      <td>2</td>\n    </tr>\n    <tr>\n      <th>8</th>\n      <td>762</td>\n      <td>5</td>\n      <td>1</td>\n    </tr>\n    <tr>\n      <th>9</th>\n      <td>773</td>\n      <td>2</td>\n      <td>0</td>\n    </tr>\n    <tr>\n      <th>10</th>\n      <td>706</td>\n      <td>1</td>\n      <td>1</td>\n    </tr>\n    <tr>\n      <th>11</th>\n      <td>719</td>\n      <td>0</td>\n      <td>1</td>\n    </tr>\n    <tr>\n      <th>12</th>\n      <td>712</td>\n      <td>0</td>\n      <td>1</td>\n    </tr>\n    <tr>\n      <th>13</th>\n      <td>778</td>\n      <td>0</td>\n      <td>1</td>\n    </tr>\n    <tr>\n      <th>14</th>\n      <td>776</td>\n      <td>0</td>\n      <td>1</td>\n    </tr>\n    <tr>\n      <th>15</th>\n      <td>747</td>\n      <td>0</td>\n      <td>1</td>\n    </tr>\n    <tr>\n      <th>16</th>\n      <td>761</td>\n      <td>0</td>\n      <td>1</td>\n    </tr>\n    <tr>\n      <th>17</th>\n      <td>714</td>\n      <td>0</td>\n      <td>1</td>\n    </tr>\n  </tbody>\n</table>\n</div>"
     },
     "execution_count": 23,
     "metadata": {},
     "output_type": "execute_result"
    }
   ],
   "source": [
    "mp_result"
   ],
   "metadata": {
    "collapsed": false,
    "ExecuteTime": {
     "end_time": "2023-08-14T11:52:45.568426049Z",
     "start_time": "2023-08-14T11:52:45.514243718Z"
    }
   },
   "id": "d41461e26895ca6"
  }
 ],
 "metadata": {
  "kernelspec": {
   "display_name": "Python 3",
   "language": "python",
   "name": "python3"
  },
  "language_info": {
   "codemirror_mode": {
    "name": "ipython",
    "version": 2
   },
   "file_extension": ".py",
   "mimetype": "text/x-python",
   "name": "python",
   "nbconvert_exporter": "python",
   "pygments_lexer": "ipython2",
   "version": "2.7.6"
  }
 },
 "nbformat": 4,
 "nbformat_minor": 5
}
